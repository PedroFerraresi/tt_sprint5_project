{
 "cells": [
  {
   "cell_type": "markdown",
   "id": "16d44ced",
   "metadata": {},
   "source": [
    "# Arquivo de Protótipo"
   ]
  },
  {
   "cell_type": "code",
   "execution_count": null,
   "id": "34a23063",
   "metadata": {},
   "outputs": [],
   "source": []
  }
 ],
 "metadata": {
  "kernelspec": {
   "display_name": "sprint5",
   "language": "python",
   "name": "python3"
  },
  "language_info": {
   "name": "python",
   "version": "3.10.18"
  }
 },
 "nbformat": 4,
 "nbformat_minor": 5
}
